{
 "cells": [
  {
   "cell_type": "code",
   "execution_count": 1,
   "metadata": {},
   "outputs": [],
   "source": [
    "import os\n",
    "import numpy as np\n",
    "import pickle\n",
    "from IPython.display import Image, display\n",
    "from random import randint\n",
    "import imageio"
   ]
  },
  {
   "cell_type": "code",
   "execution_count": 2,
   "metadata": {},
   "outputs": [
    {
     "data": {
      "text/plain": [
       "'batch_bin\\\\data_batch_1.bin'"
      ]
     },
     "execution_count": 2,
     "metadata": {},
     "output_type": "execute_result"
    }
   ],
   "source": [
    "os.chdir(r'C:\\Users\\susanthanakrishnan\\Documents\\ISEN 613\\Project\\batch_bin')\n",
    "os.getcwd()\n",
    "filenames = [\"batch_bin\\\\\" + x for x in os.listdir('batch_bin') if '.bin' in x]\n",
    "filenames[0]"
   ]
  },
  {
   "cell_type": "code",
   "execution_count": 3,
   "metadata": {},
   "outputs": [
    {
     "name": "stdout",
     "output_type": "stream",
     "text": [
      "['airplane', 'automobile', 'bird', 'cat', 'deer', 'dog', 'frog', 'horse', 'ship', 'truck']\n"
     ]
    }
   ],
   "source": [
    "# Read the image files\n",
    "data = bytes()\n",
    "for filename in filenames:\n",
    "    with open(filename, mode='rb') as file:\n",
    "        data += file.read()\n",
    "\n",
    "# Read the class names\n",
    "with open('batch_bin\\\\' + 'batches.meta.txt', mode='r') as file:\n",
    "    txt_content = file.read()\n",
    "\n",
    "class_names = [x for x in txt_content.splitlines() if len(x.strip()) > 0]\n",
    "print(class_names) "
   ]
  },
  {
   "cell_type": "code",
   "execution_count": 4,
   "metadata": {},
   "outputs": [],
   "source": [
    "byt_length = len(data)\n",
    "assert byt_length == 50000*3073, 'Input files not loaded properly, check folder/file.'"
   ]
  },
  {
   "cell_type": "code",
   "execution_count": 5,
   "metadata": {},
   "outputs": [
    {
     "data": {
      "text/plain": [
       "153650000"
      ]
     },
     "execution_count": 5,
     "metadata": {},
     "output_type": "execute_result"
    }
   ],
   "source": [
    "len(data)"
   ]
  },
  {
   "cell_type": "code",
   "execution_count": 6,
   "metadata": {},
   "outputs": [],
   "source": [
    "rgb = np.frombuffer(data, dtype=np.uint8)"
   ]
  },
  {
   "cell_type": "code",
   "execution_count": 191,
   "metadata": {},
   "outputs": [
    {
     "name": "stderr",
     "output_type": "stream",
     "text": [
      "Lossy conversion from float64 to uint8. Range [6.333333333333333, 252.0]. Convert image to uint8 prior to saving to suppress this warning.\n",
      "Lossy conversion from float64 to uint8. Range [6.333333333333333, 252.0]. Convert image to uint8 prior to saving to suppress this warning.\n",
      "Lossy conversion from float64 to uint8. Range [6.0, 252.0]. Convert image to uint8 prior to saving to suppress this warning.\n"
     ]
    },
    {
     "data": {
      "image/png": "[encoded data removed]",
      "text/plain": [
       "<IPython.core.display.Image object>"
      ]
     },
     "metadata": {},
     "output_type": "display_data"
    },
    {
     "data": {
      "image/png": "[encoded data removed]",
      "text/plain": [
       "<IPython.core.display.Image object>"
      ]
     },
     "metadata": {},
     "output_type": "display_data"
    },
    {
     "data": {
      "image/png": "[encoded data removed]",
      "text/plain": [
       "<IPython.core.display.Image object>"
      ]
     },
     "metadata": {},
     "output_type": "display_data"
    },
    {
     "data": {
      "image/png": "[encoded data removed]",
      "text/plain": [
       "<IPython.core.display.Image object>"
      ]
     },
     "metadata": {},
     "output_type": "display_data"
    },
    {
     "name": "stdout",
     "output_type": "stream",
     "text": [
      "automobile\n"
     ]
    },
    {
     "data": {
      "text/plain": [
       "array([[ 38.        ,  45.66666667,  70.66666667, ..., 202.66666667,\n",
       "        145.33333333,  82.66666667],\n",
       "       [ 42.33333333,  48.66666667,  48.        , ..., 140.33333333,\n",
       "         99.        ,  70.66666667],\n",
       "       [ 92.        , 148.66666667, 138.66666667, ...,  85.66666667,\n",
       "         67.33333333,  63.33333333],\n",
       "       ...,\n",
       "       [168.33333333, 167.33333333, 162.        , ..., 173.66666667,\n",
       "        175.33333333, 173.66666667],\n",
       "       [155.        , 154.66666667, 144.33333333, ..., 172.        ,\n",
       "        174.33333333, 170.        ],\n",
       "       [155.        , 152.33333333, 143.33333333, ..., 174.33333333,\n",
       "        170.        , 162.        ]])"
      ]
     },
     "metadata": {},
     "output_type": "display_data"
    },
    {
     "data": {
      "text/plain": [
       "array([[38, 45, 70, ..., 32, 60, 82],\n",
       "       [42, 48, 48, ..., 55, 13, 70],\n",
       "       [ 6, 63, 53, ...,  0, 67, 63],\n",
       "       ...,\n",
       "       [83, 82, 76, ...,  3,  4,  3],\n",
       "       [69, 69, 59, ...,  1,  3, 84],\n",
       "       [69, 67, 58, ...,  3, 84, 76]], dtype=uint8)"
      ]
     },
     "metadata": {},
     "output_type": "display_data"
    },
    {
     "data": {
      "text/plain": [
       "array([[ 38.,  45.,  70., ..., 202., 145.,  82.],\n",
       "       [ 42.,  48.,  48., ..., 140.,  99.,  70.],\n",
       "       [ 92., 148., 138., ...,  85.,  67.,  63.],\n",
       "       ...,\n",
       "       [168., 167., 162., ..., 173., 175., 173.],\n",
       "       [155., 154., 144., ..., 172., 174., 170.],\n",
       "       [155., 152., 143., ..., 174., 170., 162.]])"
      ]
     },
     "metadata": {},
     "output_type": "display_data"
    }
   ],
   "source": [
    "rgb2 = rgb.reshape(50000, 3073)\n",
    "labels = rgb2[:, 0]\n",
    "features = rgb2[:, 1:]\n",
    "\n",
    "# To visualise a random image from the dataset\n",
    "rgb_3d = features.reshape(50000, 3, 1024)\n",
    "rand_img_num = randint(0, 49999)\n",
    "lab = labels[rand_img_num]\n",
    "img1 = rgb_3d[rand_img_num, :, :]\n",
    "imgt = img1.transpose().reshape(32, 32, 3)\n",
    "img_grey = np.mean(imgt, axis=2)\n",
    "img_grey_u8 = np.mean(imgt, axis=2, dtype=np.uint8)\n",
    "img_grey_floor = np.floor(np.mean(imgt, axis=2))\n",
    "\n",
    "imageio.imwrite('test1.png', imgt)\n",
    "imageio.imwrite('grey_test1.png', img_grey)\n",
    "imageio.imwrite('grey_test1_u8.png', img_grey)\n",
    "imageio.imwrite('floor_grey_test1.png', img_grey_floor)\n",
    "\n",
    "display(Image('test1.png'))\n",
    "display(Image('grey_test1.png'))\n",
    "display(Image('grey_test1_u8.png'))\n",
    "display(Image('floor_grey_test1.png'))\n",
    "\n",
    "print(class_names[lab])\n",
    "\n",
    "display(img_grey)\n",
    "display(img_grey_u8)\n",
    "display(img_grey_floor)"
   ]
  },
  {
   "cell_type": "code",
   "execution_count": 128,
   "metadata": {},
   "outputs": [
    {
     "name": "stdout",
     "output_type": "stream",
     "text": [
      "(50000, 3072)\n",
      "(50000,)\n"
     ]
    }
   ],
   "source": [
    "print(features.shape)\n",
    "print(labels.shape)"
   ]
  },
  {
   "cell_type": "code",
   "execution_count": 95,
   "metadata": {},
   "outputs": [
    {
     "name": "stderr",
     "output_type": "stream",
     "text": [
      "C:\\Users\\susanthanakrishnan\\AppData\\Local\\Continuum\\anaconda3\\lib\\site-packages\\sklearn\\utils\\validation.py:595: DataConversionWarning: Data with input dtype uint8 was converted to float64 by StandardScaler.\n",
      "  warnings.warn(msg, DataConversionWarning)\n",
      "C:\\Users\\susanthanakrishnan\\AppData\\Local\\Continuum\\anaconda3\\lib\\site-packages\\sklearn\\utils\\validation.py:595: DataConversionWarning: Data with input dtype uint8 was converted to float64 by StandardScaler.\n",
      "  warnings.warn(msg, DataConversionWarning)\n",
      "C:\\Users\\susanthanakrishnan\\AppData\\Local\\Continuum\\anaconda3\\lib\\site-packages\\sklearn\\utils\\validation.py:595: DataConversionWarning: Data with input dtype uint8 was converted to float64 by StandardScaler.\n",
      "  warnings.warn(msg, DataConversionWarning)\n"
     ]
    },
    {
     "name": "stdout",
     "output_type": "stream",
     "text": [
      "(array([0, 1, 2, 3, 4, 5, 6, 7, 8, 9], dtype=uint8), array([1005,  974, 1032, 1016,  999,  937, 1030, 1001, 1025,  981],\n",
      "      dtype=int64))\n",
      "2    1032\n",
      "6    1030\n",
      "8    1025\n",
      "3    1016\n",
      "0    1005\n",
      "7    1001\n",
      "4     999\n",
      "9     981\n",
      "1     974\n",
      "5     937\n",
      "dtype: int64\n"
     ]
    },
    {
     "name": "stderr",
     "output_type": "stream",
     "text": [
      "C:\\Users\\susanthanakrishnan\\AppData\\Local\\Continuum\\anaconda3\\lib\\site-packages\\sklearn\\utils\\validation.py:595: DataConversionWarning: Data with input dtype uint8 was converted to float64 by StandardScaler.\n",
      "  warnings.warn(msg, DataConversionWarning)\n"
     ]
    },
    {
     "data": {
      "text/plain": [
       "(2500, 3072)"
      ]
     },
     "metadata": {},
     "output_type": "display_data"
    },
    {
     "data": {
      "text/plain": [
       "(2500,)"
      ]
     },
     "metadata": {},
     "output_type": "display_data"
    }
   ],
   "source": [
    "from sklearn.datasets import load_iris\n",
    "from sklearn.linear_model import LogisticRegressionCV, LogisticRegression\n",
    "#X, y = load_iris(return_X_y=True)\n",
    "X = features[:10000]\n",
    "y = labels[:10000]\n",
    "\n",
    "from sklearn.preprocessing import StandardScaler\n",
    "from sklearn.model_selection import train_test_split\n",
    "X_train, X_test, y_train, y_test = train_test_split(X, y)\n",
    "\n",
    "scaler = StandardScaler().fit(X_train)\n",
    "X_train_scaled = scaler.transform(X_train)\n",
    "\n",
    "scaler_test = StandardScaler().fit(X_test)\n",
    "X_test_scaled = scaler_test.transform(X_test)\n",
    "\n",
    "import pandas as pd\n",
    "\n",
    "y_sr = pd.Series(y)\n",
    "print(np.unique(y, return_counts=True))\n",
    "print(y_sr.value_counts())\n",
    "\n",
    "display(X_test.shape)\n",
    "display(y_test.shape)"
   ]
  },
  {
   "cell_type": "code",
   "execution_count": 72,
   "metadata": {},
   "outputs": [
    {
     "name": "stderr",
     "output_type": "stream",
     "text": [
      "C:\\Users\\susanthanakrishnan\\AppData\\Local\\Continuum\\anaconda3\\lib\\site-packages\\sklearn\\linear_model\\sag.py:334: ConvergenceWarning: The max_iter was reached which means the coef_ did not converge\n",
      "  \"the coef_ did not converge\", ConvergenceWarning)\n",
      "C:\\Users\\susanthanakrishnan\\AppData\\Local\\Continuum\\anaconda3\\lib\\site-packages\\sklearn\\linear_model\\sag.py:334: ConvergenceWarning: The max_iter was reached which means the coef_ did not converge\n",
      "  \"the coef_ did not converge\", ConvergenceWarning)\n",
      "C:\\Users\\susanthanakrishnan\\AppData\\Local\\Continuum\\anaconda3\\lib\\site-packages\\sklearn\\linear_model\\sag.py:334: ConvergenceWarning: The max_iter was reached which means the coef_ did not converge\n",
      "  \"the coef_ did not converge\", ConvergenceWarning)\n",
      "C:\\Users\\susanthanakrishnan\\AppData\\Local\\Continuum\\anaconda3\\lib\\site-packages\\sklearn\\linear_model\\sag.py:334: ConvergenceWarning: The max_iter was reached which means the coef_ did not converge\n",
      "  \"the coef_ did not converge\", ConvergenceWarning)\n",
      "C:\\Users\\susanthanakrishnan\\AppData\\Local\\Continuum\\anaconda3\\lib\\site-packages\\sklearn\\linear_model\\sag.py:334: ConvergenceWarning: The max_iter was reached which means the coef_ did not converge\n",
      "  \"the coef_ did not converge\", ConvergenceWarning)\n"
     ]
    },
    {
     "name": "stdout",
     "output_type": "stream",
     "text": [
      "1756.0661118030548\n"
     ]
    }
   ],
   "source": [
    "import time\n",
    "t1 = time.time()\n",
    "clf = LogisticRegressionCV(cv=5, random_state=0,\n",
    "                            multi_class='auto', solver='saga', n_jobs=7).fit(X_train_scaled, y_train)\n",
    "t2 = time.time()\n",
    "print(t2-t1)"
   ]
  },
  {
   "cell_type": "code",
   "execution_count": 85,
   "metadata": {},
   "outputs": [
    {
     "name": "stdout",
     "output_type": "stream",
     "text": [
      "[6 1 9 6 8 7 4 7 0 7 4 0 9 1 9 0 9 5 3 6]\n",
      "[6 9 9 4 1 1 2 7 8 3 4 7 7 2 9 9 9 3 2 6]\n",
      "[[ 59  43  50 ... 140  84  72]\n",
      " [154 126 105 ... 139 142 144]]\n",
      "0.46746666666666664\n",
      "0.4728\n"
     ]
    }
   ],
   "source": [
    "print(clf.predict(X_scaled[:20, :]))\n",
    "print(y[:20])\n",
    "print(X[:2, :])\n",
    "#print(clf.predict_proba(X[:2, :]))\n",
    "\n",
    "print(clf.score(X_train_scaled, y_train))\n",
    "print(clf.score(X_test_scaled, y_test))\n",
    "#pd.Series(y_test).value_counts()"
   ]
  },
  {
   "cell_type": "code",
   "execution_count": 102,
   "metadata": {},
   "outputs": [
    {
     "name": "stdout",
     "output_type": "stream",
     "text": [
      "77.22778820991516\n"
     ]
    }
   ],
   "source": [
    "import time\n",
    "t1 = time.time()\n",
    "clf2 = LogisticRegression(multi_class='auto', solver='liblinear').fit(X_train_scaled[:2000], y_train[:2000])\n",
    "t2 = time.time()\n",
    "print(t2-t1)"
   ]
  },
  {
   "cell_type": "code",
   "execution_count": 107,
   "metadata": {},
   "outputs": [
    {
     "name": "stdout",
     "output_type": "stream",
     "text": [
      "1.0\n",
      "0.255\n"
     ]
    }
   ],
   "source": [
    "print(clf2.score(X_train_scaled[:2000], y_train[:2000]))\n",
    "print(clf2.score(X_test_scaled[:2000], y_test[:2000]))"
   ]
  },
  {
   "cell_type": "code",
   "execution_count": 87,
   "metadata": {},
   "outputs": [
    {
     "data": {
      "text/plain": [
       "array([[ 0.06102339,  0.04536943,  0.00639751, ..., -0.44690921,\n",
       "        -0.49289651, -0.57531812],\n",
       "       [-1.51857653, -1.14029096, -1.43124468, ..., -1.31702388,\n",
       "        -1.67639678, -1.71237353],\n",
       "       [-0.44281451, -0.40959328, -0.43595394, ...,  0.40794029,\n",
       "         0.41748832,  0.42708599],\n",
       "       ...,\n",
       "       [ 1.06869921,  1.14830933,  1.15374656, ...,  1.12540326,\n",
       "         1.11545002,  1.07041997],\n",
       "       [ 1.32742678,  1.32753706,  1.31962835, ..., -0.50796989,\n",
       "        -0.64462731, -0.66508565],\n",
       "       [-1.66836618, -1.67797416, -1.68006737, ...,  0.94222122,\n",
       "         0.99406537,  0.71134984]])"
      ]
     },
     "execution_count": 87,
     "metadata": {},
     "output_type": "execute_result"
    }
   ],
   "source": [
    "X_train_scaled"
   ]
  },
  {
   "cell_type": "code",
   "execution_count": 111,
   "metadata": {},
   "outputs": [
    {
     "data": {
      "text/plain": [
       "array([[ 59,  43,  50, ..., 216, 151, 123],\n",
       "       [ 62,  46,  48, ..., 184, 118,  92],\n",
       "       [ 63,  45,  43, ..., 140,  84,  72]], dtype=uint8)"
      ]
     },
     "execution_count": 111,
     "metadata": {},
     "output_type": "execute_result"
    }
   ],
   "source": [
    "rgb_3d[0]"
   ]
  },
  {
   "cell_type": "code",
   "execution_count": 192,
   "metadata": {},
   "outputs": [],
   "source": [
    "feat_mean = np.floor(np.mean(rgb_3d, axis=1))"
   ]
  },
  {
   "cell_type": "code",
   "execution_count": 193,
   "metadata": {},
   "outputs": [
    {
     "data": {
      "text/plain": [
       "(50000, 1024)"
      ]
     },
     "execution_count": 193,
     "metadata": {},
     "output_type": "execute_result"
    }
   ],
   "source": [
    "feat_mean.shape"
   ]
  },
  {
   "cell_type": "code",
   "execution_count": 194,
   "metadata": {},
   "outputs": [
    {
     "data": {
      "text/plain": [
       "(50000, 3, 1024)"
      ]
     },
     "execution_count": 194,
     "metadata": {},
     "output_type": "execute_result"
    }
   ],
   "source": [
    "rgb_3d.shape"
   ]
  },
  {
   "cell_type": "code",
   "execution_count": 236,
   "metadata": {},
   "outputs": [
    {
     "name": "stderr",
     "output_type": "stream",
     "text": [
      "Lossy conversion from float64 to uint8. Range [11.0, 254.0]. Convert image to uint8 prior to saving to suppress this warning.\n"
     ]
    },
    {
     "data": {
      "image/png": "[encoded data removed]",
      "text/plain": [
       "<IPython.core.display.Image object>"
      ]
     },
     "metadata": {},
     "output_type": "display_data"
    }
   ],
   "source": [
    "imageio.imwrite('grey.png', feat_mean[randint(0,49999)].reshape(32, 32, 1))\n",
    "display(Image('grey.png'))"
   ]
  },
  {
   "cell_type": "code",
   "execution_count": 315,
   "metadata": {},
   "outputs": [
    {
     "name": "stdout",
     "output_type": "stream",
     "text": [
      "(array([0, 1, 2, 3, 4, 5, 6, 7, 8, 9], dtype=uint8), array([5000, 5000, 5000, 5000, 5000, 5000, 5000, 5000, 5000, 5000],\n",
      "      dtype=int64))\n",
      "9    5000\n",
      "8    5000\n",
      "7    5000\n",
      "6    5000\n",
      "5    5000\n",
      "4    5000\n",
      "3    5000\n",
      "2    5000\n",
      "1    5000\n",
      "0    5000\n",
      "dtype: int64\n"
     ]
    },
    {
     "data": {
      "text/plain": [
       "(12500, 1024)"
      ]
     },
     "metadata": {},
     "output_type": "display_data"
    },
    {
     "data": {
      "text/plain": [
       "(12500,)"
      ]
     },
     "metadata": {},
     "output_type": "display_data"
    }
   ],
   "source": [
    "from sklearn.datasets import load_iris\n",
    "from sklearn.linear_model import LogisticRegressionCV, LogisticRegression\n",
    "#X, y = load_iris(return_X_y=True)\n",
    "X = feat_mean\n",
    "#X = features\n",
    "y = labels\n",
    "\n",
    "from sklearn.preprocessing import StandardScaler\n",
    "from sklearn.model_selection import train_test_split\n",
    "X_train, X_test, y_train, y_test = train_test_split(X, y)\n",
    "\n",
    "scaler = StandardScaler().fit(X_train)\n",
    "X_train_scaled = scaler.transform(X_train)\n",
    "\n",
    "X_test_scaled = scaler.transform(X_test)\n",
    "\n",
    "import pandas as pd\n",
    "\n",
    "y_sr = pd.Series(y)\n",
    "print(np.unique(y, return_counts=True))\n",
    "print(y_sr.value_counts())\n",
    "\n",
    "display(X_test.shape)\n",
    "display(y_test.shape)"
   ]
  },
  {
   "cell_type": "code",
   "execution_count": 316,
   "metadata": {},
   "outputs": [
    {
     "name": "stderr",
     "output_type": "stream",
     "text": [
      "C:\\Users\\susanthanakrishnan\\AppData\\Local\\Continuum\\anaconda3\\lib\\site-packages\\sklearn\\linear_model\\sag.py:334: ConvergenceWarning: The max_iter was reached which means the coef_ did not converge\n",
      "  \"the coef_ did not converge\", ConvergenceWarning)\n",
      "C:\\Users\\susanthanakrishnan\\AppData\\Local\\Continuum\\anaconda3\\lib\\site-packages\\sklearn\\linear_model\\sag.py:334: ConvergenceWarning: The max_iter was reached which means the coef_ did not converge\n",
      "  \"the coef_ did not converge\", ConvergenceWarning)\n",
      "C:\\Users\\susanthanakrishnan\\AppData\\Local\\Continuum\\anaconda3\\lib\\site-packages\\sklearn\\linear_model\\sag.py:334: ConvergenceWarning: The max_iter was reached which means the coef_ did not converge\n",
      "  \"the coef_ did not converge\", ConvergenceWarning)\n",
      "C:\\Users\\susanthanakrishnan\\AppData\\Local\\Continuum\\anaconda3\\lib\\site-packages\\sklearn\\linear_model\\sag.py:334: ConvergenceWarning: The max_iter was reached which means the coef_ did not converge\n",
      "  \"the coef_ did not converge\", ConvergenceWarning)\n",
      "C:\\Users\\susanthanakrishnan\\AppData\\Local\\Continuum\\anaconda3\\lib\\site-packages\\sklearn\\linear_model\\sag.py:334: ConvergenceWarning: The max_iter was reached which means the coef_ did not converge\n",
      "  \"the coef_ did not converge\", ConvergenceWarning)\n"
     ]
    },
    {
     "name": "stdout",
     "output_type": "stream",
     "text": [
      "1997.4233157634735\n",
      "0.33368\n",
      "0.3012\n"
     ]
    }
   ],
   "source": [
    "import time\n",
    "t1 = time.time()\n",
    "nx = 10000\n",
    "x1 = X_train_scaled\n",
    "y1 = y_train\n",
    "\n",
    "#x1 = X_train[:nx]\n",
    "#x1 = features[:nx]\n",
    "#y1\n",
    "\n",
    "clf_m = LogisticRegressionCV(cv=5, multi_class='auto', solver='saga', n_jobs=-1).fit(x1, y1)\n",
    "#clf2 = LogisticRegression(multi_class='auto', solver='saga', n_jobs=7).fit(x1, y1)\n",
    "#clf3 = LogisticRegressionCV(cv=3, multi_class='auto', solver='saga', n_jobs=7).fit(x1, y1)\n",
    "#clf4 = LogisticRegressionCV(cv=3, multi_class='auto', solver='saga', n_jobs=7).fit(x1, y1)\n",
    "t2 = time.time()\n",
    "print(t2-t1)\n",
    "# using original & CV=3\n",
    "print(clf_m.score(x1, y1))\n",
    "print(clf_m.score(X_test_scaled, y_test))\n"
   ]
  },
  {
   "cell_type": "code",
   "execution_count": 317,
   "metadata": {},
   "outputs": [
    {
     "name": "stderr",
     "output_type": "stream",
     "text": [
      "C:\\Users\\susanthanakrishnan\\AppData\\Local\\Continuum\\anaconda3\\lib\\site-packages\\sklearn\\utils\\validation.py:595: DataConversionWarning: Data with input dtype uint8 was converted to float64 by StandardScaler.\n",
      "  warnings.warn(msg, DataConversionWarning)\n",
      "C:\\Users\\susanthanakrishnan\\AppData\\Local\\Continuum\\anaconda3\\lib\\site-packages\\sklearn\\utils\\validation.py:595: DataConversionWarning: Data with input dtype uint8 was converted to float64 by StandardScaler.\n",
      "  warnings.warn(msg, DataConversionWarning)\n"
     ]
    },
    {
     "name": "stdout",
     "output_type": "stream",
     "text": [
      "(array([0, 1, 2, 3, 4, 5, 6, 7, 8, 9], dtype=uint8), array([5000, 5000, 5000, 5000, 5000, 5000, 5000, 5000, 5000, 5000],\n",
      "      dtype=int64))\n",
      "9    5000\n",
      "8    5000\n",
      "7    5000\n",
      "6    5000\n",
      "5    5000\n",
      "4    5000\n",
      "3    5000\n",
      "2    5000\n",
      "1    5000\n",
      "0    5000\n",
      "dtype: int64\n"
     ]
    },
    {
     "name": "stderr",
     "output_type": "stream",
     "text": [
      "C:\\Users\\susanthanakrishnan\\AppData\\Local\\Continuum\\anaconda3\\lib\\site-packages\\sklearn\\utils\\validation.py:595: DataConversionWarning: Data with input dtype uint8 was converted to float64 by StandardScaler.\n",
      "  warnings.warn(msg, DataConversionWarning)\n"
     ]
    },
    {
     "data": {
      "text/plain": [
       "(12500, 3072)"
      ]
     },
     "metadata": {},
     "output_type": "display_data"
    },
    {
     "data": {
      "text/plain": [
       "(12500,)"
      ]
     },
     "metadata": {},
     "output_type": "display_data"
    },
    {
     "name": "stderr",
     "output_type": "stream",
     "text": [
      "C:\\Users\\susanthanakrishnan\\AppData\\Local\\Continuum\\anaconda3\\lib\\site-packages\\sklearn\\linear_model\\sag.py:334: ConvergenceWarning: The max_iter was reached which means the coef_ did not converge\n",
      "  \"the coef_ did not converge\", ConvergenceWarning)\n",
      "C:\\Users\\susanthanakrishnan\\AppData\\Local\\Continuum\\anaconda3\\lib\\site-packages\\sklearn\\linear_model\\sag.py:334: ConvergenceWarning: The max_iter was reached which means the coef_ did not converge\n",
      "  \"the coef_ did not converge\", ConvergenceWarning)\n",
      "C:\\Users\\susanthanakrishnan\\AppData\\Local\\Continuum\\anaconda3\\lib\\site-packages\\sklearn\\linear_model\\sag.py:334: ConvergenceWarning: The max_iter was reached which means the coef_ did not converge\n",
      "  \"the coef_ did not converge\", ConvergenceWarning)\n",
      "C:\\Users\\susanthanakrishnan\\AppData\\Local\\Continuum\\anaconda3\\lib\\site-packages\\sklearn\\linear_model\\sag.py:334: ConvergenceWarning: The max_iter was reached which means the coef_ did not converge\n",
      "  \"the coef_ did not converge\", ConvergenceWarning)\n",
      "C:\\Users\\susanthanakrishnan\\AppData\\Local\\Continuum\\anaconda3\\lib\\site-packages\\sklearn\\linear_model\\sag.py:334: ConvergenceWarning: The max_iter was reached which means the coef_ did not converge\n",
      "  \"the coef_ did not converge\", ConvergenceWarning)\n"
     ]
    },
    {
     "name": "stdout",
     "output_type": "stream",
     "text": [
      "7161.087183713913\n",
      "0.45642666666666665\n",
      "0.4136\n"
     ]
    }
   ],
   "source": [
    "from sklearn.datasets import load_iris\n",
    "from sklearn.linear_model import LogisticRegressionCV, LogisticRegression\n",
    "#X, y = load_iris(return_X_y=True)\n",
    "#X = feat_mean[:10000]\n",
    "X = features\n",
    "y = labels\n",
    "\n",
    "from sklearn.preprocessing import StandardScaler\n",
    "from sklearn.model_selection import train_test_split\n",
    "X_train, X_test, y_train, y_test = train_test_split(X, y)\n",
    "\n",
    "scaler = StandardScaler().fit(X_train)\n",
    "X_train_scaled = scaler.transform(X_train)\n",
    "\n",
    "X_test_scaled = scaler.transform(X_test)\n",
    "\n",
    "import pandas as pd\n",
    "\n",
    "y_sr = pd.Series(y)\n",
    "print(np.unique(y, return_counts=True))\n",
    "print(y_sr.value_counts())\n",
    "\n",
    "display(X_test.shape)\n",
    "display(y_test.shape)\n",
    "\n",
    "import time\n",
    "t1 = time.time()\n",
    "nx = 10000\n",
    "x1 = X_train_scaled\n",
    "y1 = y_train\n",
    "\n",
    "#x1 = X_train[:nx]\n",
    "#x1 = features[:nx]\n",
    "#y1\n",
    "\n",
    "clf_o = LogisticRegressionCV(cv=5, multi_class='auto', solver='saga', n_jobs=-1).fit(x1, y1)\n",
    "#clf2 = LogisticRegression(multi_class='auto', solver='saga', n_jobs=7).fit(x1, y1)\n",
    "#clf3 = LogisticRegressionCV(cv=3, multi_class='auto', solver='saga', n_jobs=7).fit(x1, y1)\n",
    "#clf4 = LogisticRegressionCV(cv=3, multi_class='auto', solver='saga', n_jobs=7).fit(x1, y1)\n",
    "t2 = time.time()\n",
    "print(t2-t1)\n",
    "# using original & CV=3\n",
    "print(clf_o.score(x1, y1))\n",
    "print(clf_o.score(X_test_scaled, y_test))\n"
   ]
  },
  {
   "cell_type": "code",
   "execution_count": 291,
   "metadata": {},
   "outputs": [
    {
     "name": "stdout",
     "output_type": "stream",
     "text": [
      "0.4182666666666667\n",
      "0.2276\n",
      "0.2368\n"
     ]
    }
   ],
   "source": [
    "# using mean\n",
    "print(clf2.score(x1, y1))\n",
    "print(clf2.score(X_test_scaled, y_test))\n",
    "print(clf2.score(X_test, y_test))"
   ]
  },
  {
   "cell_type": "code",
   "execution_count": 310,
   "metadata": {},
   "outputs": [
    {
     "name": "stdout",
     "output_type": "stream",
     "text": [
      "0.574\n",
      "0.5812\n",
      "0.404\n"
     ]
    }
   ],
   "source": [
    "# using original\n",
    "print(clf2.score(x1, y1))\n",
    "print(clf2.score(X_test_scaled, y_test))\n",
    "print(clf2.score(X_test, y_test))"
   ]
  },
  {
   "cell_type": "code",
   "execution_count": 304,
   "metadata": {},
   "outputs": [
    {
     "name": "stdout",
     "output_type": "stream",
     "text": [
      "0.36293333333333333\n",
      "0.288\n",
      "0.1548\n"
     ]
    }
   ],
   "source": [
    "# using mean & CV=3\n",
    "print(clf3.score(x1, y1))\n",
    "print(clf3.score(X_test_scaled, y_test))\n",
    "print(clf3.score(X_test, y_test))"
   ]
  },
  {
   "cell_type": "code",
   "execution_count": 312,
   "metadata": {},
   "outputs": [
    {
     "name": "stdout",
     "output_type": "stream",
     "text": [
      "0.4922666666666667\n",
      "0.3972\n",
      "0.242\n"
     ]
    }
   ],
   "source": [
    "# using original & CV=3\n",
    "print(clf4.score(x1, y1))\n",
    "print(clf4.score(X_test_scaled, y_test))\n",
    "print(clf4.score(X_test, y_test))"
   ]
  },
  {
   "cell_type": "code",
   "execution_count": 262,
   "metadata": {},
   "outputs": [],
   "source": [
    "X_test_scaled = scaler_test.transform(X_test)"
   ]
  },
  {
   "cell_type": "code",
   "execution_count": 296,
   "metadata": {},
   "outputs": [
    {
     "data": {
      "text/plain": [
       "(50000, 3072)"
      ]
     },
     "execution_count": 296,
     "metadata": {},
     "output_type": "execute_result"
    }
   ],
   "source": [
    "features.shape"
   ]
  },
  {
   "cell_type": "code",
   "execution_count": null,
   "metadata": {},
   "outputs": [],
   "source": []
  }
 ],
 "metadata": {
  "kernelspec": {
   "display_name": "Python 3",
   "language": "python",
   "name": "python3"
  },
  "language_info": {
   "codemirror_mode": {
    "name": "ipython",
    "version": 3
   },
   "file_extension": ".py",
   "mimetype": "text/x-python",
   "name": "python",
   "nbconvert_exporter": "python",
   "pygments_lexer": "ipython3",
   "version": "3.7.3"
  }
 },
 "nbformat": 4,
 "nbformat_minor": 2
}
